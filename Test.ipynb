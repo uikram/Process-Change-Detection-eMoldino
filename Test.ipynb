{
 "cells": [
  {
   "cell_type": "code",
   "execution_count": 75,
   "metadata": {},
   "outputs": [],
   "source": [
    "import pandas as pd\n",
    "from artifacts.ai_pc import main_proc_change\n",
    "from config.params import ProcChangeConfig\n",
    "import csv"
   ]
  },
  {
   "cell_type": "code",
   "execution_count": 71,
   "metadata": {},
   "outputs": [],
   "source": [
    "df = pd.read_csv('AAM_MEXICO_DATA_ACCELERATION_EMA2252M10022.csv')"
   ]
  },
  {
   "cell_type": "code",
   "execution_count": 72,
   "metadata": {},
   "outputs": [],
   "source": [
    "df['READ_TIME'] = pd.to_datetime(df['READ_TIME'])\n",
    "batch_size = 8  \n",
    "df['batch'] = (df['READ_TIME'] - df['READ_TIME'].iloc[0]).dt.total_seconds() // (batch_size * 3600)\n",
    "\n",
    "grouped = df.groupby('batch')\n",
    "\n",
    "batch_results = []\n",
    "for _, group in grouped:\n",
    "    batch_start_hour = group['READ_TIME'].iloc[0].strftime('%Y%m%d%H')  # Format startHour as needed\n",
    "    \n",
    "    batch_fetch_result = {\n",
    "        \"data\": {\n",
    "            \"moldId\": int(group['ID'].unique()[0]),\n",
    "            \"counterId\": str(group['COUNTER_ID'].unique()[0]),\n",
    "            \"startHour\": batch_start_hour,\n",
    "            \"contractedCycleTime\": 360,\n",
    "            \"accelerations\": group['ACCELERATIONS'].tolist(),\n",
    "            \"dataAccId\": group['ID'].tolist(),\n",
    "            \"measurementDate\": group['MEASUREMENT_DATE'].astype(str).tolist(),\n",
    "            \"procChanged\": [None] * len(group),\n",
    "            \"similarityMetric\": [None] * len(group),\n",
    "            \"similarityMetricHr\": [None] * len(group),\n",
    "        }\n",
    "    }\n",
    "    batch_results.append(batch_fetch_result)\n"
   ]
  },
  {
   "cell_type": "code",
   "execution_count": 73,
   "metadata": {},
   "outputs": [],
   "source": [
    "result=main_proc_change(batch_fetch_result,\n",
    "                THRESHOLD_SIM_METRIC=ProcChangeConfig.THRESHOLD_SIM_METRIC,\n",
    "                N_PREV_RECS=ProcChangeConfig.N_PREV_RECS,\n",
    "                FIRST_SECTION_PROP=ProcChangeConfig.FIRST_SECTION_PROP,\n",
    "                BIN_WIDTH_FIRST_SECTION=ProcChangeConfig.BIN_WIDTH_FIRST_SECTION,\n",
    "                BIN_WIDTH_SECOND_SECTION=ProcChangeConfig.BIN_WIDTH_SECOND_SECTION,\n",
    "\n",
    "                )"
   ]
  },
  {
   "cell_type": "code",
   "execution_count": 74,
   "metadata": {},
   "outputs": [
    {
     "name": "stdout",
     "output_type": "stream",
     "text": [
      "{'moldId': 43916, 'counterId': 'EMA2252M10022', 'dataAccId': [43963, 43964, 43965, 43966, 43967, 43968, 43969, 43970, 43971, 43972, 43973, 44024, 44025, 44026, 44027, 44028, 44029, 44030, 44037, 44038, 44039, 44040, 44041], 'similarityMetric': [0.897085, 0.786796, 0.897085, 0.897085, 0.892607, 0.755929, 0.893237, 0.893237, 0.782794, 0.944911, 0.842701, 0.699854, 0.808736, 0.884538, 0.989071, 0.790569, 0.866025, 0.891133, 0.971825, 0.959645, 0.723627, 0.885422, 0.923186], 'similarityMetricHr': [0.836039, 0.836039, 0.836039, 0.836039, 0.836039, 0.836039, 0.836039, 0.836039, 0.928423, 0.928423, 0.928423, 0.928423, 0.928423, 0.928423, 0.928423, 0.901242, 0.901242, 0.901242, 0.901242, 0.901242, 0.901242, 0.901242, 0.963925], 'procChanged': [0, 0, 0, 0, 0, 0, 0, 0, 0, 0, 0, 0, 0, 0, 0, 0, 0, 0, 0, 0, 0, 0, 0]}\n"
     ]
    }
   ],
   "source": [
    "print(result)"
   ]
  },
  {
   "cell_type": "code",
   "execution_count": 76,
   "metadata": {},
   "outputs": [
    {
     "name": "stdout",
     "output_type": "stream",
     "text": [
      "Result saved to result.csv\n"
     ]
    }
   ],
   "source": [
    "csv_file_path = 'result.csv'\n",
    "\n",
    "with open(csv_file_path, 'w', newline='') as csvfile:\n",
    "    # Define the CSV writer\n",
    "    csv_writer = csv.writer(csvfile)\n",
    "    \n",
    "    # Write the header row\n",
    "    csv_writer.writerow(result.keys())\n",
    "    \n",
    "    # Transpose the values and write as rows\n",
    "    num_rows = len(result[\"dataAccId\"])  # Number of rows in the CSV\n",
    "    for i in range(num_rows):\n",
    "        row_values = [result[key][i] if isinstance(result[key], list) else result[key] for key in result.keys()]\n",
    "        csv_writer.writerow(row_values)\n",
    "\n",
    "print(f\"Result saved to {csv_file_path}\")"
   ]
  }
 ],
 "metadata": {
  "kernelspec": {
   "display_name": "DeepChain",
   "language": "python",
   "name": "python3"
  },
  "language_info": {
   "codemirror_mode": {
    "name": "ipython",
    "version": 3
   },
   "file_extension": ".py",
   "mimetype": "text/x-python",
   "name": "python",
   "nbconvert_exporter": "python",
   "pygments_lexer": "ipython3",
   "version": "3.11.4"
  },
  "orig_nbformat": 4
 },
 "nbformat": 4,
 "nbformat_minor": 2
}
